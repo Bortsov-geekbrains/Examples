{
  "nbformat": 4,
  "nbformat_minor": 0,
  "metadata": {
    "colab": {
      "provenance": [],
      "include_colab_link": true
    },
    "kernelspec": {
      "name": "python3",
      "display_name": "Python 3"
    },
    "language_info": {
      "name": "python"
    }
  },
  "cells": [
    {
      "cell_type": "markdown",
      "metadata": {
        "id": "view-in-github",
        "colab_type": "text"
      },
      "source": [
        "<a href=\"https://colab.research.google.com/github/Bortsov-geekbrains/Examples/blob/main/%D0%9A%D0%BE%D0%BF%D0%B8%D1%8F_%D0%B1%D0%BB%D0%BE%D0%BA%D0%BD%D0%BE%D1%82%D0%B0_%22hw7terver_ipynb%22.ipynb\" target=\"_parent\"><img src=\"https://colab.research.google.com/assets/colab-badge.svg\" alt=\"Open In Colab\"/></a>"
      ]
    },
    {
      "cell_type": "code",
      "execution_count": 1,
      "metadata": {
        "id": "eU7gkfp4rm0g"
      },
      "outputs": [],
      "source": [
        "import numpy as np\n",
        "import scipy.stats as stats\n",
        "import matplotlib.pyplot as pl"
      ]
    },
    {
      "cell_type": "code",
      "source": [
        "1-4 задачи решать с помощью функций, 5ю вручную\n",
        "Выбрать тест и проверить, есть  ли различия между выборками:\n",
        "1 )  Даны две  независимые выборки. Не соблюдается условие нормальности\n",
        "x1  380,420, 290\n",
        "y1 140,360,200,900\n",
        "Сделайте вывод по результатам, полученным с помощью функции"
      ],
      "metadata": {
        "id": "j6cQSDC_r37c"
      },
      "execution_count": null,
      "outputs": []
    },
    {
      "cell_type": "code",
      "source": [
        "Используем критерий Манна-Уитни"
      ],
      "metadata": {
        "id": "Z7lyHv85r4We"
      },
      "execution_count": null,
      "outputs": []
    },
    {
      "cell_type": "code",
      "source": [
        "x1 = np.array([380, 420, 290])\n",
        "y1 = np.array([140,360,200,900])"
      ],
      "metadata": {
        "id": "0sMngb4gr4d-"
      },
      "execution_count": null,
      "outputs": []
    },
    {
      "cell_type": "code",
      "source": [
        "stats.mannwhitneyu(x1,y1)"
      ],
      "metadata": {
        "colab": {
          "base_uri": "https://localhost:8080/"
        },
        "id": "jrabvzs4r4nS",
        "outputId": "e01d1963-e42d-4faa-e0ed-8d3dda7af392"
      },
      "execution_count": null,
      "outputs": [
        {
          "output_type": "execute_result",
          "data": {
            "text/plain": [
              "MannwhitneyuResult(statistic=8.0, pvalue=0.6285714285714286)"
            ]
          },
          "metadata": {},
          "execution_count": 3
        }
      ]
    },
    {
      "cell_type": "code",
      "source": [
        "если точность альфа принять 0,05, то pvalue=0.6285 выше альфа 5%\n",
        "принимаем Н0 гипотезу, различий между выборками нет"
      ],
      "metadata": {
        "id": "BbXf7ddVr4yk"
      },
      "execution_count": null,
      "outputs": []
    },
    {
      "cell_type": "code",
      "source": [],
      "metadata": {
        "id": "Fb9qCHhWl4oO"
      },
      "execution_count": null,
      "outputs": []
    },
    {
      "cell_type": "code",
      "source": [
        "2 ) Исследовалось влияние препарата на уровень давления пациентов. \n",
        "Сначала измерялось давление до приема препарата, потом через 10 минут и через 30 минут. Есть ли статистически значимые различия?\n",
        "1е измерение до приема препарата: 150, 160, 165, 145, 155\n",
        "2е измерение через 10 минут: 140, 155, 150,  130, 135\n",
        "3е измерение через 30 минут: 130, 130, 120, 130, 125"
      ],
      "metadata": {
        "id": "Hg2-dtgor4_T"
      },
      "execution_count": null,
      "outputs": []
    },
    {
      "cell_type": "code",
      "source": [
        "Применяем критерий Фридмана "
      ],
      "metadata": {
        "id": "gT8XfQcyr5Fm"
      },
      "execution_count": null,
      "outputs": []
    },
    {
      "cell_type": "code",
      "source": [
        "bp1=np.array([150, 160, 165, 145, 155])\n",
        "bp2 = np.array([140, 155, 150,  130, 135])\n",
        "bp3 = np.array([130, 130, 120, 130, 125])"
      ],
      "metadata": {
        "id": "yh7HWQMer5NS"
      },
      "execution_count": null,
      "outputs": []
    },
    {
      "cell_type": "code",
      "source": [
        "stats.friedmanchisquare(bp1,bp2,bp3)"
      ],
      "metadata": {
        "colab": {
          "base_uri": "https://localhost:8080/"
        },
        "id": "Z28izUFZr5SZ",
        "outputId": "3b7716ab-18e9-41ac-d759-b763295d3c70"
      },
      "execution_count": null,
      "outputs": [
        {
          "output_type": "execute_result",
          "data": {
            "text/plain": [
              "FriedmanchisquareResult(statistic=9.578947368421062, pvalue=0.00831683351100441)"
            ]
          },
          "metadata": {},
          "execution_count": 5
        }
      ]
    },
    {
      "cell_type": "code",
      "source": [
        "pvalue=0.0083 ниже точности альфа = 0.05\n",
        "принимаем альтернативную гипотезу  о наличии статистически значимыех различий между измерениями"
      ],
      "metadata": {
        "id": "Ye2hrkzjr5X0"
      },
      "execution_count": null,
      "outputs": []
    },
    {
      "cell_type": "code",
      "source": [
        "3 ) Сравните 1 и 2 е измерения, предполагая, что 3го измерения через 30 минут не было."
      ],
      "metadata": {
        "id": "wYby_NoYr5cv"
      },
      "execution_count": null,
      "outputs": []
    },
    {
      "cell_type": "code",
      "source": [
        "Применяем критерий Уилкоксона"
      ],
      "metadata": {
        "id": "V1R6TMcrzBEP"
      },
      "execution_count": null,
      "outputs": []
    },
    {
      "cell_type": "code",
      "source": [
        "stats.wilcoxon(bp1,bp2)"
      ],
      "metadata": {
        "colab": {
          "base_uri": "https://localhost:8080/"
        },
        "id": "C3tMkiPKzA9t",
        "outputId": "94bcea8b-1d64-46b0-f350-63219bb63210"
      },
      "execution_count": null,
      "outputs": [
        {
          "output_type": "execute_result",
          "data": {
            "text/plain": [
              "WilcoxonResult(statistic=0.0, pvalue=0.0625)"
            ]
          },
          "metadata": {},
          "execution_count": 7
        }
      ]
    },
    {
      "cell_type": "code",
      "source": [
        "pvalue=0.0625 выше точности альфа = 0.05\n",
        "принимаем нулевую гипотезу  об отсутствии статистически значимыех различий между измерениями"
      ],
      "metadata": {
        "id": "_LB2nKRizA5H"
      },
      "execution_count": null,
      "outputs": []
    },
    {
      "cell_type": "code",
      "source": [
        "4) Даны 3 группы  учеников плавания.\n",
        "В 1 группе время на дистанцию 50 м составляют: 56, 60, 62, 55, 71, 67, 59, 58, 64, 67\n",
        "Вторая группа : 57, 58, 69, 48, 72, 70, 68, 71, 50, 53\n",
        "Третья группа: 57, 67, 49, 48, 47, 55, 66, 51, 54"
      ],
      "metadata": {
        "id": "v6Tyyen7y117"
      },
      "execution_count": null,
      "outputs": []
    },
    {
      "cell_type": "code",
      "source": [
        " Применяем критерий Критерий Крускала –Уоллиса"
      ],
      "metadata": {
        "id": "3xHIc78ry3kB"
      },
      "execution_count": null,
      "outputs": []
    },
    {
      "cell_type": "code",
      "source": [
        "swimmer1=np.array([56, 60, 62, 55, 71, 67, 59, 58, 64, 67])\n",
        "swimmer2=np.array([57, 58, 69, 48, 72, 70, 68, 71, 50, 53])\n",
        "swimmer3=np.array([57, 67, 49, 48, 47, 55, 66, 51, 54])"
      ],
      "metadata": {
        "id": "8cplYk2ky3cG"
      },
      "execution_count": null,
      "outputs": []
    },
    {
      "cell_type": "code",
      "source": [
        "stats.kruskal(swimmer1,swimmer2,swimmer3)"
      ],
      "metadata": {
        "colab": {
          "base_uri": "https://localhost:8080/"
        },
        "id": "1LA_W0lay3WP",
        "outputId": "6155ccbf-dac5-487d-89ce-848b14663326"
      },
      "execution_count": null,
      "outputs": [
        {
          "output_type": "execute_result",
          "data": {
            "text/plain": [
              "KruskalResult(statistic=5.465564058257224, pvalue=0.0650380998590494)"
            ]
          },
          "metadata": {},
          "execution_count": 11
        }
      ]
    },
    {
      "cell_type": "code",
      "source": [
        "При допустимой точности альфа = 0,05 pvalue=0.065 выше, то есть\n",
        "принимаем нулевую гипотезу об отсутсвии статистически значимых отличий между группами пловцов"
      ],
      "metadata": {
        "id": "LaiMfh59y3Qj"
      },
      "execution_count": null,
      "outputs": []
    },
    {
      "cell_type": "code",
      "source": [
        "5) Заявляется, что партия изготавливается со средним арифметическим 2,5 см. Проверить данную гипотезу, \n",
        "если известно, что размеры изделий подчинены нормальному закону распределения. \n",
        "Объем выборки 10, уровень статистической значимости 5%\n",
        "\n",
        "2.51, 2.35, 2.74, 2.56, 2.40, 2.36, 2.65, 2.7, 2.67, 2.34"
      ],
      "metadata": {
        "id": "IAyQk_KRy1we"
      },
      "execution_count": null,
      "outputs": []
    },
    {
      "cell_type": "code",
      "source": [
        "n=10 альфа=0,05 нормальное распределение m=2.5 см критерий Z"
      ],
      "metadata": {
        "id": "TNfNGGdyy1rg"
      },
      "execution_count": null,
      "outputs": []
    },
    {
      "cell_type": "code",
      "source": [
        "izd=np.array([2.51, 2.35, 2.74, 2.56, 2.40, 2.36, 2.65, 2.7, 2.67, 2.34])\n",
        "izd"
      ],
      "metadata": {
        "colab": {
          "base_uri": "https://localhost:8080/"
        },
        "id": "RxVsx6ehy1UI",
        "outputId": "a0174442-fa20-4474-f7a9-e4a661be4252"
      },
      "execution_count": null,
      "outputs": [
        {
          "output_type": "execute_result",
          "data": {
            "text/plain": [
              "array([2.51, 2.35, 2.74, 2.56, 2.4 , 2.36, 2.65, 2.7 , 2.67, 2.34])"
            ]
          },
          "metadata": {},
          "execution_count": 4
        }
      ]
    },
    {
      "cell_type": "code",
      "source": [
        "izd_mean=np.mean(izd)\n",
        "izd_mean"
      ],
      "metadata": {
        "colab": {
          "base_uri": "https://localhost:8080/"
        },
        "id": "e2uTosc3y1MO",
        "outputId": "7f8bf36c-bb03-4e56-8912-3a9f679b50d0"
      },
      "execution_count": null,
      "outputs": [
        {
          "output_type": "execute_result",
          "data": {
            "text/plain": [
              "2.5279999999999996"
            ]
          },
          "metadata": {},
          "execution_count": 8
        }
      ]
    },
    {
      "cell_type": "code",
      "source": [
        "sigma=np.std(izd,ddof=1)\n",
        "sigma"
      ],
      "metadata": {
        "colab": {
          "base_uri": "https://localhost:8080/"
        },
        "id": "TR6Hp5zFy1C6",
        "outputId": "28cbd8ae-7123-4224-829e-15a76a905243"
      },
      "execution_count": null,
      "outputs": [
        {
          "output_type": "execute_result",
          "data": {
            "text/plain": [
              "0.1572542173961923"
            ]
          },
          "metadata": {},
          "execution_count": 5
        }
      ]
    },
    {
      "cell_type": "code",
      "source": [
        "m=2.5\n",
        "n=10"
      ],
      "metadata": {
        "id": "SXvP3a4zy08m"
      },
      "execution_count": null,
      "outputs": []
    },
    {
      "cell_type": "code",
      "source": [
        "ztest = (izd_mean-m)/(sigma/np.sqrt(n))\n",
        "ztest"
      ],
      "metadata": {
        "colab": {
          "base_uri": "https://localhost:8080/"
        },
        "id": "arSuKO0jy026",
        "outputId": "cba899cd-4607-4161-d9ca-49b97d1c3761"
      },
      "execution_count": null,
      "outputs": [
        {
          "output_type": "execute_result",
          "data": {
            "text/plain": [
              "0.5630613661802959"
            ]
          },
          "metadata": {},
          "execution_count": 9
        }
      ]
    },
    {
      "cell_type": "code",
      "source": [
        "stats.ttest_1samp(izd,m)"
      ],
      "metadata": {
        "colab": {
          "base_uri": "https://localhost:8080/"
        },
        "id": "OrdPqEkcy0xs",
        "outputId": "a52fb361-06e2-4da0-a582-0a4cb415d977"
      },
      "execution_count": null,
      "outputs": [
        {
          "output_type": "execute_result",
          "data": {
            "text/plain": [
              "Ttest_1sampResult(statistic=0.5630613661802959, pvalue=0.5871439993940628)"
            ]
          },
          "metadata": {},
          "execution_count": 17
        }
      ]
    },
    {
      "cell_type": "code",
      "source": [
        "pvalue=0.587 выше допустимой точности альфа=0.05\n",
        "Принимаем гипотезу Н0 об отсутствии статистически важных различий "
      ],
      "metadata": {
        "id": "m4ZODIj3r5ik"
      },
      "execution_count": null,
      "outputs": []
    }
  ]
}